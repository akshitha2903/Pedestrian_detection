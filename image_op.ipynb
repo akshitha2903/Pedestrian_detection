{
 "cells": [
  {
   "cell_type": "code",
   "execution_count": 40,
   "id": "4c8912cd",
   "metadata": {},
   "outputs": [],
   "source": [
    "import cv2"
   ]
  },
  {
   "cell_type": "code",
   "execution_count": 41,
   "id": "f1b2e8c3",
   "metadata": {},
   "outputs": [],
   "source": [
    "import imutils"
   ]
  },
  {
   "cell_type": "code",
   "execution_count": 42,
   "id": "4c78eff1",
   "metadata": {},
   "outputs": [],
   "source": [
    "from human_detection import Detector"
   ]
  },
  {
   "cell_type": "code",
   "execution_count": 43,
   "id": "f9e14efe",
   "metadata": {},
   "outputs": [],
   "source": [
    "img = cv2.imread(r\"D:\\pedestrian tests\\p7.jpg\")"
   ]
  },
  {
   "cell_type": "code",
   "execution_count": 45,
   "id": "c39db2d6",
   "metadata": {},
   "outputs": [],
   "source": [
    "img = imutils.resize(img,width=700)\n",
    "img = Detector(img)\n",
    "cv2.waitKey(0)\n",
    "cv2.destroyAllWindows()"
   ]
  },
  {
   "cell_type": "code",
   "execution_count": null,
   "id": "dcc3de69",
   "metadata": {},
   "outputs": [],
   "source": []
  }
 ],
 "metadata": {
  "kernelspec": {
   "display_name": "Python 3",
   "language": "python",
   "name": "python3"
  },
  "language_info": {
   "codemirror_mode": {
    "name": "ipython",
    "version": 3
   },
   "file_extension": ".py",
   "mimetype": "text/x-python",
   "name": "python",
   "nbconvert_exporter": "python",
   "pygments_lexer": "ipython3",
   "version": "3.8.8"
  }
 },
 "nbformat": 4,
 "nbformat_minor": 5
}
