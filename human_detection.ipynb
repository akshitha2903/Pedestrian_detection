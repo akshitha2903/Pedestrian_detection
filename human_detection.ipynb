{
 "cells": [
  {
   "cell_type": "code",
   "execution_count": 2,
   "id": "9de2c21a",
   "metadata": {},
   "outputs": [],
   "source": [
    "import cv2"
   ]
  },
  {
   "cell_type": "code",
   "execution_count": 3,
   "id": "f5695d57",
   "metadata": {},
   "outputs": [],
   "source": [
    "import numpy as np"
   ]
  },
  {
   "cell_type": "code",
   "execution_count": 4,
   "id": "1f47db78",
   "metadata": {},
   "outputs": [],
   "source": [
    "from imutils.object_detection import non_max_suppression"
   ]
  },
  {
   "cell_type": "code",
   "execution_count": 5,
   "id": "e9d9d627",
   "metadata": {},
   "outputs": [],
   "source": [
    "## Histogram of Oriented Gradients Detector\n",
    "HOGCV = cv2.HOGDescriptor()\n",
    "HOGCV.setSVMDetector(cv2.HOGDescriptor_getDefaultPeopleDetector())"
   ]
  },
  {
   "cell_type": "code",
   "execution_count": 6,
   "id": "f410ca86",
   "metadata": {},
   "outputs": [],
   "source": [
    "def Detector(frame):\n",
    "    ## USing Sliding window concept\n",
    "    rects, weights = HOGCV.detectMultiScale(frame, winStride=(4, 4), padding=(8, 8), scale=1.03)\n",
    "    rects = np.array([[x, y, x + w, y + h] for (x, y, w, h) in rects])\n",
    "    pick = non_max_suppression(rects, probs=None, overlapThresh=0.65)\n",
    "    c = 1\n",
    "    for x, y, w, h in pick:\n",
    "        cv2.rectangle(frame, (x, y), (w, h), (139, 34, 104), 2)\n",
    "        cv2.rectangle(frame, (x, y - 20), (w,y), (139, 34, 104), -1)\n",
    "        cv2.putText(frame, f'P{c}', (x, y), cv2.FONT_HERSHEY_SIMPLEX, 0.6, (255, 255, 255), 2)\n",
    "        c += 1\n",
    "\n",
    "    cv2.putText(frame, f'Total Persons : {c - 1}', (20, 450), cv2.FONT_HERSHEY_DUPLEX, 0.8, (255, 255,255), 2)\n",
    "    cv2.imshow('output',frame)\n",
    "    return frame"
   ]
  },
  {
   "cell_type": "code",
   "execution_count": null,
   "id": "7ae3b11b",
   "metadata": {},
   "outputs": [],
   "source": []
  }
 ],
 "metadata": {
  "kernelspec": {
   "display_name": "Python 3",
   "language": "python",
   "name": "python3"
  },
  "language_info": {
   "codemirror_mode": {
    "name": "ipython",
    "version": 3
   },
   "file_extension": ".py",
   "mimetype": "text/x-python",
   "name": "python",
   "nbconvert_exporter": "python",
   "pygments_lexer": "ipython3",
   "version": "3.8.8"
  }
 },
 "nbformat": 4,
 "nbformat_minor": 5
}
